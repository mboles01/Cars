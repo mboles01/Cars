{
 "cells": [
  {
   "cell_type": "markdown",
   "metadata": {},
   "source": [
    "<table style=\"width:100%; border: 0px solid black;\">\n",
    "    <tr style=\"width: 100%; border: 0px solid black;\">\n",
    "        <td style=\"width:75%; border: 0px solid black;\">\n",
    "            <a href=\"http://www.drivendata.org\">\n",
    "                <img src=\"https://s3.amazonaws.com/drivendata.org/kif-example/img/dd.png\" />\n",
    "            </a>\n",
    "        </td>\n",
    "    </tr>\n",
    "</table>\n",
    "\n",
    "# Data Science is Software\n",
    "## Developer #lifehacks for the Jupyter Data Scientist\n",
    "\n",
    "### Section 2:  This is my house\n",
    "#### Environment reproducibility for Python"
   ]
  },
  {
   "cell_type": "markdown",
   "metadata": {},
   "source": [
    "## Question 1\n",
    "\n",
    "Set up a new virtual environment using conda. We strongly recommending naming the environment the same thing as your project root folder so that it is easy to remember.\n",
    "\n",
    "Once the environment is created, activate the environment.\n",
    "\n",
    "When you're finished your command line prompt should look something like:\n",
    "\n",
    "`(water-pumps)machine:~ user$`\n",
    "\n",
    "Use the `conda env list` command to list the environments that are available and confirm that the `water-pumps` environment is marked with a `*` to indicate it is active."
   ]
  },
  {
   "cell_type": "code",
   "execution_count": null,
   "metadata": {
    "collapsed": false
   },
   "outputs": [],
   "source": [
    "#SOLUTION\n",
    "# AT THE COMMANDLINE:\n",
    "> conda create -n water-pumps python=3\n",
    "> source activate water-pumps\n",
    "\n",
    "> conda env list"
   ]
  },
  {
   "cell_type": "markdown",
   "metadata": {},
   "source": [
    "## Question 2\n",
    "\n",
    "Now that you have a virtual environment, let's populate it with the packages we need. For convenience, we've listed the _some_ of the contents of your `requirements.txt` file. If you see an import package error later in the tutorial, you'll be expected to update `requirements.txt` with the additional dependency!\n",
    "\n",
    "At this step you need to:\n",
    " - Ensure you have a `requirements.txt` file. It should have been created by the data-science-cookiecutter process.\n",
    " - Update that `requirements.txt` with the packages you need for analysis. Remember, the point is not to pre-load the environment with every possible package you could ever need. Just your minimum reproducible environment.\n",
    " - Run the command that will install the packages listed in that file.\n",
    " \n",
    "Here's a start for what your `requirements.txt` should contain."
   ]
  },
  {
   "cell_type": "raw",
   "metadata": {},
   "source": [
    "click\n",
    "Sphinx\n",
    "coverage\n",
    "awscli\n",
    "flake8\n",
    "watermark\n",
    "python-dotenv>=0.5.1\n",
    "pandas>=0.18.1\n",
    "matplotlib>=1.5.1"
   ]
  },
  {
   "cell_type": "code",
   "execution_count": null,
   "metadata": {
    "collapsed": false
   },
   "outputs": [],
   "source": [
    "#SOLUTION\n",
    "# AT THE COMMANDLINE:\n",
    "> cd water-pumps\n",
    "> edit requirements.txt\n",
    "\n",
    "> pip install -r requirements.txt"
   ]
  },
  {
   "cell_type": "markdown",
   "metadata": {},
   "source": [
    "## Question 3\n",
    "\n",
    "Awesome! Finally, let's add the watermark extension so we can keep track of the package versions every time we execute the notebook. This helps people who find the notebook in other contexts (nbviewer, as a blog post, as a rendered notebook) also know what versions of packages the code executes against. The [watermark documenation](https://github.com/rasbt/watermark#usage) may help here.\n",
    "\n",
    " - Load the watermark extension\n",
    " - Print out the author name, date, time, python version, package versions for numpy, pandas, matplotlib, and the current git hash."
   ]
  },
  {
   "cell_type": "code",
   "execution_count": null,
   "metadata": {
    "collapsed": false
   },
   "outputs": [],
   "source": [
    "#SOLUTION\n",
    "%load_ext watermark\n",
    "%watermark -a \"Peter Bull\" -d -t -v -p numpy,pandas,matplotlib -g"
   ]
  }
 ],
 "metadata": {
  "kernelspec": {
   "display_name": "Python 3",
   "language": "python",
   "name": "python3"
  },
  "language_info": {
   "codemirror_mode": {
    "name": "ipython",
    "version": 3
   },
   "file_extension": ".py",
   "mimetype": "text/x-python",
   "name": "python",
   "nbconvert_exporter": "python",
   "pygments_lexer": "ipython3",
   "version": "3.5.1"
  }
 },
 "nbformat": 4,
 "nbformat_minor": 0
}
