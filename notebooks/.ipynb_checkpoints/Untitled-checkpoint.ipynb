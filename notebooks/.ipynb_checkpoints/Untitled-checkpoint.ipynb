{
 "cells": [
  {
   "cell_type": "markdown",
   "metadata": {},
   "source": [
    "# Exploratory analysis"
   ]
  },
  {
   "cell_type": "markdown",
   "metadata": {},
   "source": [
    "## Depreciation"
   ]
  },
  {
   "cell_type": "code",
   "execution_count": 2,
   "metadata": {},
   "outputs": [],
   "source": [
    "# load packages\n",
    "import pandas as pd"
   ]
  },
  {
   "cell_type": "code",
   "execution_count": 3,
   "metadata": {},
   "outputs": [],
   "source": [
    "# pull in depreciation summary (filtered R2 > 0.67) and plot best and worst\n",
    "depr_summary = pd.read_csv('../data/depr_summary_filtered.csv')"
   ]
  },
  {
   "cell_type": "code",
   "execution_count": 47,
   "metadata": {},
   "outputs": [],
   "source": [
    "# get top ten models by half life\n",
    "top_ten = depr_summary.sort_values('Half life', ascending=False)[:10]\n",
    "\n",
    "# get select columns and rename them \n",
    "top_ten_1 = top_ten[['Make', 'Model', 'Fit_age_a', 'Fit_age_b', 'Fit_age_R2', 'Half life']]\n",
    "top_ten_2 = top_ten_1.rename(columns={'Fit_age_a': 'New price ($)',\n",
    "                             'Fit_age_b': 'Decay coeff. (1/y)',\n",
    "                             'Fit_age_R2': 'Fit quality, R2',\n",
    "                             'Half life': 'Half life (y)'})"
   ]
  },
  {
   "cell_type": "code",
   "execution_count": 49,
   "metadata": {},
   "outputs": [
    {
     "data": {
      "text/html": [
       "<style  type=\"text/css\" >\n",
       "</style><table id=\"T_c6ebc264_6570_11ea_bc44_acde48001122\" ><thead>    <tr>        <th class=\"col_heading level0 col0\" >Make</th>        <th class=\"col_heading level0 col1\" >Model</th>        <th class=\"col_heading level0 col2\" >New price ($)</th>        <th class=\"col_heading level0 col3\" >Decay coeff. (1/y)</th>        <th class=\"col_heading level0 col4\" >Fit quality, R2</th>        <th class=\"col_heading level0 col5\" >Half life (y)</th>    </tr></thead><tbody>\n",
       "                <tr>\n",
       "                                <td id=\"T_c6ebc264_6570_11ea_bc44_acde48001122row0_col0\" class=\"data row0 col0\" >MAZDA</td>\n",
       "                        <td id=\"T_c6ebc264_6570_11ea_bc44_acde48001122row0_col1\" class=\"data row0 col1\" >MX-5 Miata</td>\n",
       "                        <td id=\"T_c6ebc264_6570_11ea_bc44_acde48001122row0_col2\" class=\"data row0 col2\" >27500</td>\n",
       "                        <td id=\"T_c6ebc264_6570_11ea_bc44_acde48001122row0_col3\" class=\"data row0 col3\" >0.071</td>\n",
       "                        <td id=\"T_c6ebc264_6570_11ea_bc44_acde48001122row0_col4\" class=\"data row0 col4\" >0.82</td>\n",
       "                        <td id=\"T_c6ebc264_6570_11ea_bc44_acde48001122row0_col5\" class=\"data row0 col5\" >9.71</td>\n",
       "            </tr>\n",
       "            <tr>\n",
       "                                <td id=\"T_c6ebc264_6570_11ea_bc44_acde48001122row1_col0\" class=\"data row1 col0\" >Toyota</td>\n",
       "                        <td id=\"T_c6ebc264_6570_11ea_bc44_acde48001122row1_col1\" class=\"data row1 col1\" >Tacoma</td>\n",
       "                        <td id=\"T_c6ebc264_6570_11ea_bc44_acde48001122row1_col2\" class=\"data row1 col2\" >35800</td>\n",
       "                        <td id=\"T_c6ebc264_6570_11ea_bc44_acde48001122row1_col3\" class=\"data row1 col3\" >0.076</td>\n",
       "                        <td id=\"T_c6ebc264_6570_11ea_bc44_acde48001122row1_col4\" class=\"data row1 col4\" >0.828</td>\n",
       "                        <td id=\"T_c6ebc264_6570_11ea_bc44_acde48001122row1_col5\" class=\"data row1 col5\" >9.14</td>\n",
       "            </tr>\n",
       "            <tr>\n",
       "                                <td id=\"T_c6ebc264_6570_11ea_bc44_acde48001122row2_col0\" class=\"data row2 col0\" >Nissan</td>\n",
       "                        <td id=\"T_c6ebc264_6570_11ea_bc44_acde48001122row2_col1\" class=\"data row2 col1\" >Frontier</td>\n",
       "                        <td id=\"T_c6ebc264_6570_11ea_bc44_acde48001122row2_col2\" class=\"data row2 col2\" >26200</td>\n",
       "                        <td id=\"T_c6ebc264_6570_11ea_bc44_acde48001122row2_col3\" class=\"data row2 col3\" >0.082</td>\n",
       "                        <td id=\"T_c6ebc264_6570_11ea_bc44_acde48001122row2_col4\" class=\"data row2 col4\" >0.818</td>\n",
       "                        <td id=\"T_c6ebc264_6570_11ea_bc44_acde48001122row2_col5\" class=\"data row2 col5\" >8.48</td>\n",
       "            </tr>\n",
       "            <tr>\n",
       "                                <td id=\"T_c6ebc264_6570_11ea_bc44_acde48001122row3_col0\" class=\"data row3 col0\" >Jeep</td>\n",
       "                        <td id=\"T_c6ebc264_6570_11ea_bc44_acde48001122row3_col1\" class=\"data row3 col1\" >Wrangler</td>\n",
       "                        <td id=\"T_c6ebc264_6570_11ea_bc44_acde48001122row3_col2\" class=\"data row3 col2\" >44800</td>\n",
       "                        <td id=\"T_c6ebc264_6570_11ea_bc44_acde48001122row3_col3\" class=\"data row3 col3\" >0.088</td>\n",
       "                        <td id=\"T_c6ebc264_6570_11ea_bc44_acde48001122row3_col4\" class=\"data row3 col4\" >0.776</td>\n",
       "                        <td id=\"T_c6ebc264_6570_11ea_bc44_acde48001122row3_col5\" class=\"data row3 col5\" >7.88</td>\n",
       "            </tr>\n",
       "            <tr>\n",
       "                                <td id=\"T_c6ebc264_6570_11ea_bc44_acde48001122row4_col0\" class=\"data row4 col0\" >Ford</td>\n",
       "                        <td id=\"T_c6ebc264_6570_11ea_bc44_acde48001122row4_col1\" class=\"data row4 col1\" >F450</td>\n",
       "                        <td id=\"T_c6ebc264_6570_11ea_bc44_acde48001122row4_col2\" class=\"data row4 col2\" >62000</td>\n",
       "                        <td id=\"T_c6ebc264_6570_11ea_bc44_acde48001122row4_col3\" class=\"data row4 col3\" >0.09</td>\n",
       "                        <td id=\"T_c6ebc264_6570_11ea_bc44_acde48001122row4_col4\" class=\"data row4 col4\" >0.743</td>\n",
       "                        <td id=\"T_c6ebc264_6570_11ea_bc44_acde48001122row4_col5\" class=\"data row4 col5\" >7.71</td>\n",
       "            </tr>\n",
       "            <tr>\n",
       "                                <td id=\"T_c6ebc264_6570_11ea_bc44_acde48001122row5_col0\" class=\"data row5 col0\" >Nissan</td>\n",
       "                        <td id=\"T_c6ebc264_6570_11ea_bc44_acde48001122row5_col1\" class=\"data row5 col1\" >370Z</td>\n",
       "                        <td id=\"T_c6ebc264_6570_11ea_bc44_acde48001122row5_col2\" class=\"data row5 col2\" >37000</td>\n",
       "                        <td id=\"T_c6ebc264_6570_11ea_bc44_acde48001122row5_col3\" class=\"data row5 col3\" >0.092</td>\n",
       "                        <td id=\"T_c6ebc264_6570_11ea_bc44_acde48001122row5_col4\" class=\"data row5 col4\" >0.722</td>\n",
       "                        <td id=\"T_c6ebc264_6570_11ea_bc44_acde48001122row5_col5\" class=\"data row5 col5\" >7.52</td>\n",
       "            </tr>\n",
       "            <tr>\n",
       "                                <td id=\"T_c6ebc264_6570_11ea_bc44_acde48001122row6_col0\" class=\"data row6 col0\" >Ford</td>\n",
       "                        <td id=\"T_c6ebc264_6570_11ea_bc44_acde48001122row6_col1\" class=\"data row6 col1\" >F250</td>\n",
       "                        <td id=\"T_c6ebc264_6570_11ea_bc44_acde48001122row6_col2\" class=\"data row6 col2\" >53800</td>\n",
       "                        <td id=\"T_c6ebc264_6570_11ea_bc44_acde48001122row6_col3\" class=\"data row6 col3\" >0.093</td>\n",
       "                        <td id=\"T_c6ebc264_6570_11ea_bc44_acde48001122row6_col4\" class=\"data row6 col4\" >0.755</td>\n",
       "                        <td id=\"T_c6ebc264_6570_11ea_bc44_acde48001122row6_col5\" class=\"data row6 col5\" >7.49</td>\n",
       "            </tr>\n",
       "            <tr>\n",
       "                                <td id=\"T_c6ebc264_6570_11ea_bc44_acde48001122row7_col0\" class=\"data row7 col0\" >Honda</td>\n",
       "                        <td id=\"T_c6ebc264_6570_11ea_bc44_acde48001122row7_col1\" class=\"data row7 col1\" >Fit</td>\n",
       "                        <td id=\"T_c6ebc264_6570_11ea_bc44_acde48001122row7_col2\" class=\"data row7 col2\" >19200</td>\n",
       "                        <td id=\"T_c6ebc264_6570_11ea_bc44_acde48001122row7_col3\" class=\"data row7 col3\" >0.093</td>\n",
       "                        <td id=\"T_c6ebc264_6570_11ea_bc44_acde48001122row7_col4\" class=\"data row7 col4\" >0.911</td>\n",
       "                        <td id=\"T_c6ebc264_6570_11ea_bc44_acde48001122row7_col5\" class=\"data row7 col5\" >7.49</td>\n",
       "            </tr>\n",
       "            <tr>\n",
       "                                <td id=\"T_c6ebc264_6570_11ea_bc44_acde48001122row8_col0\" class=\"data row8 col0\" >GMC</td>\n",
       "                        <td id=\"T_c6ebc264_6570_11ea_bc44_acde48001122row8_col1\" class=\"data row8 col1\" >Sierra 2500</td>\n",
       "                        <td id=\"T_c6ebc264_6570_11ea_bc44_acde48001122row8_col2\" class=\"data row8 col2\" >61700</td>\n",
       "                        <td id=\"T_c6ebc264_6570_11ea_bc44_acde48001122row8_col3\" class=\"data row8 col3\" >0.093</td>\n",
       "                        <td id=\"T_c6ebc264_6570_11ea_bc44_acde48001122row8_col4\" class=\"data row8 col4\" >0.759</td>\n",
       "                        <td id=\"T_c6ebc264_6570_11ea_bc44_acde48001122row8_col5\" class=\"data row8 col5\" >7.45</td>\n",
       "            </tr>\n",
       "            <tr>\n",
       "                                <td id=\"T_c6ebc264_6570_11ea_bc44_acde48001122row9_col0\" class=\"data row9 col0\" >Toyota</td>\n",
       "                        <td id=\"T_c6ebc264_6570_11ea_bc44_acde48001122row9_col1\" class=\"data row9 col1\" >4Runner</td>\n",
       "                        <td id=\"T_c6ebc264_6570_11ea_bc44_acde48001122row9_col2\" class=\"data row9 col2\" >43200</td>\n",
       "                        <td id=\"T_c6ebc264_6570_11ea_bc44_acde48001122row9_col3\" class=\"data row9 col3\" >0.099</td>\n",
       "                        <td id=\"T_c6ebc264_6570_11ea_bc44_acde48001122row9_col4\" class=\"data row9 col4\" >0.915</td>\n",
       "                        <td id=\"T_c6ebc264_6570_11ea_bc44_acde48001122row9_col5\" class=\"data row9 col5\" >7.03</td>\n",
       "            </tr>\n",
       "    </tbody></table>"
      ],
      "text/plain": [
       "<pandas.io.formats.style.Styler at 0x123cce8d0>"
      ]
     },
     "execution_count": 49,
     "metadata": {},
     "output_type": "execute_result"
    }
   ],
   "source": [
    "# change \n",
    "top_ten_2['New price ($)'] = round(top_ten_2['New price ($)'], -2)\n",
    "top_ten_2['Fit quality, R2'] = round(top_ten_2['Fit quality, R2'],3)\n",
    "top_ten_2['Decay coeff. (1/y)'] = round(top_ten_2['Decay coeff. (1/y)'],3)\n",
    "top_ten_2['Half life (y)'] = round(top_ten_2['Half life (y)'],2)\n",
    "top_ten_2.style.hide_index()"
   ]
  },
  {
   "cell_type": "code",
   "execution_count": null,
   "metadata": {},
   "outputs": [],
   "source": []
  }
 ],
 "metadata": {
  "kernelspec": {
   "display_name": "Python 3",
   "language": "python",
   "name": "python3"
  },
  "language_info": {
   "codemirror_mode": {
    "name": "ipython",
    "version": 3
   },
   "file_extension": ".py",
   "mimetype": "text/x-python",
   "name": "python",
   "nbconvert_exporter": "python",
   "pygments_lexer": "ipython3",
   "version": "3.7.3"
  },
  "toc": {
   "base_numbering": 1,
   "nav_menu": {},
   "number_sections": true,
   "sideBar": true,
   "skip_h1_title": false,
   "title_cell": "Table of Contents",
   "title_sidebar": "Contents",
   "toc_cell": false,
   "toc_position": {},
   "toc_section_display": true,
   "toc_window_display": true
  }
 },
 "nbformat": 4,
 "nbformat_minor": 4
}
