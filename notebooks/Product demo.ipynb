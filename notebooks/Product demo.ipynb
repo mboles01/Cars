{
 "cells": [
  {
   "cell_type": "code",
   "execution_count": 2,
   "metadata": {},
   "outputs": [],
   "source": [
    "# set up working directory\n",
    "import os\n",
    "os.chdir('/Users/michaelboles/Michael/Coding/2020/Insight/Project/Cars/scripts') \n",
    "\n",
    "# open full listings data set and depreciation summary\n",
    "import pandas as pd\n",
    "listings_data = pd.read_csv('../data/listings4.csv')\n",
    "depr_summary = pd.read_csv('../data/depreciation/depreciation_by_model.csv')"
   ]
  },
  {
   "cell_type": "code",
   "execution_count": 3,
   "metadata": {},
   "outputs": [],
   "source": [
    "### PRE-PROCESS DATA ###\n",
    "\n",
    "# exclude models older than \n",
    "newerthan = 1995\n",
    "listings_data_filtered = listings_data[listings_data['Year'] > newerthan]"
   ]
  },
  {
   "cell_type": "code",
   "execution_count": 4,
   "metadata": {},
   "outputs": [],
   "source": [
    "# filter fit data to exclude poor fit quality\n",
    "depr_summary_filtered = depr_summary[depr_summary['Fit_age_R2'] > 0.67]"
   ]
  },
  {
   "cell_type": "code",
   "execution_count": null,
   "metadata": {},
   "outputs": [],
   "source": [
    "# create dropdown menu containing make/model sorted by frequency\n",
    "model_counts = listings_data.groupby('Model').count().iloc[:,1].to_frame().rename(columns={'Make':'Counts'}).sort_values(by = 'Counts', ascending = False)"
   ]
  },
  {
   "cell_type": "code",
   "execution_count": 1,
   "metadata": {},
   "outputs": [
    {
     "ename": "NameError",
     "evalue": "name 'depr_summary_filtered' is not defined",
     "output_type": "error",
     "traceback": [
      "\u001b[0;31m---------------------------------------------------------------------------\u001b[0m",
      "\u001b[0;31mNameError\u001b[0m                                 Traceback (most recent call last)",
      "\u001b[0;32m<ipython-input-1-771c10a9de3b>\u001b[0m in \u001b[0;36m<module>\u001b[0;34m\u001b[0m\n\u001b[1;32m      1\u001b[0m \u001b[0;31m# view all make/model combinations with minimum R2 fit quality - 828->156\u001b[0m\u001b[0;34m\u001b[0m\u001b[0;34m\u001b[0m\u001b[0;34m\u001b[0m\u001b[0m\n\u001b[0;32m----> 2\u001b[0;31m \u001b[0mmodel_counts_filtered\u001b[0m \u001b[0;34m=\u001b[0m \u001b[0mdepr_summary_filtered\u001b[0m\u001b[0;34m.\u001b[0m\u001b[0mmerge\u001b[0m\u001b[0;34m(\u001b[0m\u001b[0mmodel_counts\u001b[0m\u001b[0;34m.\u001b[0m\u001b[0mreset_index\u001b[0m\u001b[0;34m(\u001b[0m\u001b[0;34m)\u001b[0m\u001b[0;34m,\u001b[0m \u001b[0mon\u001b[0m\u001b[0;34m=\u001b[0m\u001b[0;34m'Model'\u001b[0m\u001b[0;34m,\u001b[0m \u001b[0mhow\u001b[0m\u001b[0;34m=\u001b[0m\u001b[0;34m'left'\u001b[0m\u001b[0;34m)\u001b[0m\u001b[0;34m\u001b[0m\u001b[0;34m\u001b[0m\u001b[0m\n\u001b[0m",
      "\u001b[0;31mNameError\u001b[0m: name 'depr_summary_filtered' is not defined"
     ]
    }
   ],
   "source": [
    "# view all make/model combinations with minimum R2 fit quality - 828->156\n",
    "model_counts_filtered = depr_summary_filtered.merge(model_counts.reset_index(), on='Model', how='left')"
   ]
  },
  {
   "cell_type": "code",
   "execution_count": null,
   "metadata": {},
   "outputs": [],
   "source": [
    "### CREATE COMBINATION PLOT ###\n",
    "\n",
    "# random generator\n",
    "selection = model_counts_filtered  # fully random\n",
    "selection = model_counts_filtered[model_counts_filtered['Counts'] > 750] # many counts\n",
    "import numpy.random as npr\n",
    "model = selection.iloc[npr.randint(0,len(selection))][2]\n",
    "\n",
    "# plot \n",
    "from plotfunctions_3 import plot_combo_depr2\n",
    "plot_combo_depr2(listings_data_filtered, \n",
    "                 depr_summary_filtered, \n",
    "                 model, \n",
    "                 model_counts, \n",
    "                 save=False)\n",
    "\n",
    "data = listings_data_filtered\n",
    "depr_summary = depr_summary_filtered"
   ]
  },
  {
   "cell_type": "code",
   "execution_count": null,
   "metadata": {},
   "outputs": [],
   "source": []
  }
 ],
 "metadata": {
  "kernelspec": {
   "display_name": "Python 3",
   "language": "python",
   "name": "python3"
  },
  "language_info": {
   "codemirror_mode": {
    "name": "ipython",
    "version": 3
   },
   "file_extension": ".py",
   "mimetype": "text/x-python",
   "name": "python",
   "nbconvert_exporter": "python",
   "pygments_lexer": "ipython3",
   "version": "3.7.3"
  }
 },
 "nbformat": 4,
 "nbformat_minor": 2
}
