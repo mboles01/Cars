{
 "cells": [
  {
   "cell_type": "markdown",
   "metadata": {},
   "source": [
    "<table style=\"width:100%; border: 0px solid black;\">\n",
    "    <tr style=\"width: 100%; border: 0px solid black;\">\n",
    "        <td style=\"width:75%; border: 0px solid black;\">\n",
    "            <a href=\"http://www.drivendata.org\">\n",
    "                <img src=\"https://s3.amazonaws.com/drivendata.org/kif-example/img/dd.png\" />\n",
    "            </a>\n",
    "        </td>\n",
    "    </tr>\n",
    "</table>\n",
    "\n",
    "# Data Science is Software\n",
    "## Developer #lifehacks for the Jupyter Data Scientist\n",
    "\n",
    "### Section 3:  Writing code for reusability"
   ]
  },
  {
   "cell_type": "code",
   "execution_count": null,
   "metadata": {
    "collapsed": false
   },
   "outputs": [],
   "source": [
    "%matplotlib inline\n",
    "from __future__ import print_function\n",
    "\n",
    "import os\n",
    "\n",
    "import pandas as pd\n",
    "\n",
    "import matplotlib.pyplot as plt\n",
    "import seaborn as sns\n",
    "\n",
    "PROJ_ROOT = os.path.join(os.pardir, os.pardir)"
   ]
  },
  {
   "cell_type": "markdown",
   "metadata": {},
   "source": [
    "## 3.1 No more docs-guessing\n",
    "\n",
    "Don't edit-run-repeat to try to remember the name of a function or argument. Jupyter provides great docs integration and easy ways to remember the arguments to a function."
   ]
  },
  {
   "cell_type": "code",
   "execution_count": null,
   "metadata": {
    "collapsed": false
   },
   "outputs": [],
   "source": [
    "## Try adding parameter index=0\n",
    "pump_data_path = os.path.join(PROJ_ROOT,\n",
    "                              \"data\",\n",
    "                              \"raw\",\n",
    "                              \"pumps_train_values.csv\")\n",
    "\n",
    "df = pd.read_csv(pump_data_path, index=0)\n",
    "df.head(1)"
   ]
  },
  {
   "cell_type": "code",
   "execution_count": null,
   "metadata": {
    "collapsed": true
   },
   "outputs": [],
   "source": [
    "pd.read_csv?"
   ]
  },
  {
   "cell_type": "code",
   "execution_count": null,
   "metadata": {
    "collapsed": false
   },
   "outputs": [],
   "source": [
    "# Tab completion for parsing dates in the date_recoreded column\n",
    "# Shift tab for documentation\n",
    "df = pd.read_csv(\"../data/water-pumps.csv\", index_col=0)\n",
    "\n",
    "df.head(1)"
   ]
  },
  {
   "cell_type": "markdown",
   "metadata": {},
   "source": [
    "## 3.2 No more copy-pasta\n",
    "\n",
    "Don't repeat yourself."
   ]
  },
  {
   "cell_type": "code",
   "execution_count": null,
   "metadata": {
    "collapsed": false
   },
   "outputs": [],
   "source": [
    "df.describe()"
   ]
  },
  {
   "cell_type": "code",
   "execution_count": null,
   "metadata": {
    "collapsed": false
   },
   "outputs": [],
   "source": [
    "## Paste for 'construction_year' and plot\n",
    "## Paste for 'gps_height' and plot\n",
    "plot_data = df['amount_tsh']\n",
    "sns.kdeplot(plot_data, bw=1000)\n",
    "plt.show()"
   ]
  },
  {
   "cell_type": "code",
   "execution_count": null,
   "metadata": {
    "collapsed": true
   },
   "outputs": [],
   "source": [
    "def kde_plot(dataframe, variable, upper=None, lower=None, bw=0.1):\n",
    "    \"\"\" Plots a density plot for a variable with optional upper and\n",
    "        lower bounds on the data (inclusive).\n",
    "    \"\"\"\n",
    "    plot_data = dataframe[variable]\n",
    "    \n",
    "    if upper is not None:\n",
    "        plot_data = plot_data[plot_data <= upper]\n",
    "    if lower is not None:\n",
    "        plot_data = plot_data[plot_data >= lower]\n",
    "\n",
    "    sns.kdeplot(plot_data, bw=bw)\n",
    "    plt.show()"
   ]
  },
  {
   "cell_type": "code",
   "execution_count": null,
   "metadata": {
    "collapsed": false
   },
   "outputs": [],
   "source": [
    "kde_plot(df, 'amount_tsh', bw=1000, lower=0)\n",
    "kde_plot(df, 'construction_year', bw=1, lower=1000, upper=2016)\n",
    "kde_plot(df, 'gps_height', bw=100)"
   ]
  },
  {
   "cell_type": "markdown",
   "metadata": {},
   "source": [
    "## 3.3 No more copy-pasta between notebooks \n",
    "\n",
    "Have a method that gets used in multiple notebooks? Refactor it into a separate `.py` file so it can live a happy life!\n",
    "\n",
    "Note: In order to import your local modules, you must do three things:\n",
    "\n",
    " - put the .py file in a separate folder\n",
    " - add an empty `__init__.py` file to the folder\n",
    " - add that folder to the Python path with `sys.path.append`"
   ]
  },
  {
   "cell_type": "code",
   "execution_count": null,
   "metadata": {
    "collapsed": false
   },
   "outputs": [],
   "source": [
    "# add local python functions\n",
    "import sys\n",
    "\n",
    "# add the 'src' directory as one where we can import modules\n",
    "src_dir = os.path.join(PROJ_ROOT, \"src\")\n",
    "sys.path.append(src_dir)\n",
    "\n",
    "# import my method from the source code\n",
    "from features.build_features import remove_invalid_data\n",
    "\n",
    "df = remove_invalid_data(pump_data_path)\n",
    "df.shape"
   ]
  },
  {
   "cell_type": "code",
   "execution_count": null,
   "metadata": {
    "collapsed": false
   },
   "outputs": [],
   "source": [
    "# TRY ADDING print(\"lalalala\") to the method\n",
    "df = remove_invalid_data(pump_data_path)"
   ]
  },
  {
   "cell_type": "markdown",
   "metadata": {},
   "source": [
    "Restart the kernel, let's try this again...."
   ]
  },
  {
   "cell_type": "code",
   "execution_count": null,
   "metadata": {
    "collapsed": false
   },
   "outputs": [],
   "source": [
    "# Load the \"autoreload\" extension\n",
    "%load_ext autoreload\n",
    "\n",
    "# always reload modules marked with \"%aimport\"\n",
    "%autoreload 1\n",
    "\n",
    "import os\n",
    "import sys\n",
    "\n",
    "# add the 'src' directory as one where we can import modules\n",
    "src_dir = os.path.join(os.getcwd(), os.pardir, 'src')\n",
    "sys.path.append(src_dir)\n",
    "\n",
    "# import my method from the source code\n",
    "%aimport features.build_features\n",
    "from features.build_features import remove_invalid_data"
   ]
  },
  {
   "cell_type": "code",
   "execution_count": null,
   "metadata": {
    "collapsed": false
   },
   "outputs": [],
   "source": [
    "df = remove_invalid_data(pump_data_path)\n",
    "df.head()"
   ]
  },
  {
   "cell_type": "markdown",
   "metadata": {},
   "source": [
    "## 3.4 I'm too good! Now this code is useful to other projects!\n",
    "\n",
    "Importing local code is great if you want to use it in multiple notebooks, but once you want to use the code in multiple projects or repositories, it gets complicated. This is when we get serious about isolation!\n",
    "\n",
    "We can build a python package to solve that! In fact, there is a [cookiecutter to create Python packages](https://github.com/wdm0006/cookiecutter-pipproject).\n",
    "\n",
    "Once we create this package, we can install it in \"editable\" mode, which means that as we change the code the changes will get picked up if the package is used. The process looks like\n",
    "\n",
    "    cookiecutter https://github.com/wdm0006/cookiecutter-pipproject\n",
    "    cd package_name\n",
    "    pip install -e .\n",
    "    \n",
    "Now we can have a separate repository for this code and it can be used across projects without having to maintain code in multiple places."
   ]
  },
  {
   "cell_type": "markdown",
   "metadata": {
    "collapsed": true
   },
   "source": [
    "## 3.5 Sometimes things go wrong\n",
    "\n",
    "Interrupt execution with:\n",
    " - `%debug` magic: drops you out into _the most recent error stacktrace_ in pdb\n",
    " - `import q;q.d()`: drops you into pdb, even outside of IPython\n",
    " \n",
    "Interrupt execution on an Exception with `%pdb` magic. Use [pdb](https://docs.python.org/2/library/pdb.html) the Python debugger to debug inside a notebook.  Key commands for `pdb` are:\n",
    "\n",
    " - `p`: Evaluate and print Python code\n",
    " \n",
    " \n",
    " - `w`: Where in the stack trace am I?\n",
    " - `u`: Go up a frame in the stack trace.\n",
    " - `d`: Go down a frame in the stack trace.\n",
    " \n",
    " \n",
    " - `c`: Continue execution\n",
    " - `q`: Stop execution"
   ]
  },
  {
   "cell_type": "code",
   "execution_count": null,
   "metadata": {
    "collapsed": false
   },
   "outputs": [],
   "source": [
    "kde_plot(df,\n",
    "         'date_recorded',\n",
    "         upper=pd.to_datetime('2017-01-01'),\n",
    "         lower=pd.to_datetime('1900-01-01'))"
   ]
  },
  {
   "cell_type": "code",
   "execution_count": null,
   "metadata": {
    "collapsed": false,
    "scrolled": false
   },
   "outputs": [],
   "source": [
    "%debug"
   ]
  },
  {
   "cell_type": "code",
   "execution_count": null,
   "metadata": {
    "collapsed": true
   },
   "outputs": [],
   "source": [
    "# \"1\" turns pdb on, \"0\" turns pdb off\n",
    "%pdb 1\n",
    "\n",
    "kde_plot(df, 'date_recorded')"
   ]
  },
  {
   "cell_type": "code",
   "execution_count": null,
   "metadata": {
    "collapsed": true
   },
   "outputs": [],
   "source": [
    "# turn off debugger\n",
    "%pdb 0"
   ]
  },
  {
   "cell_type": "markdown",
   "metadata": {},
   "source": [
    "**`#lifehack`: %debug and %pdb are great, but pdb can be clunky. Try the 'q' module. Adding the line `import q;q.d()` anywhere in a project gives you a normal python console at that point. This is great if you're running outside of IPython. **"
   ]
  },
  {
   "cell_type": "markdown",
   "metadata": {},
   "source": [
    "## 3.6 Code profiling\n",
    "\n",
    "Sometimes your code is slow. See which functions are called, how many times, and how long they take!\n",
    "\n",
    "The `%prun` magic reports these to you right in the Jupyter notebook!"
   ]
  },
  {
   "cell_type": "code",
   "execution_count": null,
   "metadata": {
    "collapsed": false
   },
   "outputs": [],
   "source": [
    "import numpy as np\n",
    "from mcmc.hamiltonian import hamiltonian, run_diagnostics\n",
    "\n",
    "f = lambda X: np.exp(-100*(np.sqrt(X[:,1]**2 + X[:,0]**2)- 1)**2 + (X[:,0]-1)**3 - X[:,1] - 5)\n",
    "\n",
    "# potential and kinetic energies\n",
    "U = lambda q: -np.log(f(q))\n",
    "K = lambda p: p.dot(p.T) / 2\n",
    "\n",
    "# gradient of the potential energy\n",
    "def grad_U(X):\n",
    "    x, y = X[0,:]\n",
    "\n",
    "    xy_sqrt = np.sqrt(y**2 + x**2)\n",
    "        \n",
    "    mid_term = 100*2*(xy_sqrt - 1) \n",
    "    grad_x = 3*((x-1)**2) - mid_term * ((x) / (xy_sqrt))\n",
    "    grad_y = -1 - mid_term * ((y) / (xy_sqrt))\n",
    "    \n",
    "    return -1*np.array([grad_x, grad_y]).reshape(-1, 2)\n",
    "\n",
    "ham_samples, H = hamiltonian(2500, U, K, grad_U)\n",
    "run_diagnostics(ham_samples)"
   ]
  },
  {
   "cell_type": "code",
   "execution_count": null,
   "metadata": {
    "collapsed": false
   },
   "outputs": [],
   "source": [
    "%prun ham_samples, H = hamiltonian(2500, U, K, grad_U)\n",
    "run_diagnostics(ham_samples)"
   ]
  },
  {
   "cell_type": "markdown",
   "metadata": {},
   "source": [
    "## 3.7 The world beyond Jupyter\n",
    "\n",
    "### Graphical Debugging (IDEs)\n",
    "\n",
    "\n",
    "[PyCharm](https://www.jetbrains.com/pycharm/download/) is a fully-featured Python IDE. It has _tons_ of integrations with the normal development flow. The features I use most are:\n",
    "\n",
    " - `git` integration\n",
    " - interactive graphical debugger\n",
    " - flake8 linting\n",
    " - smart refactoring/go to"
   ]
  },
  {
   "cell_type": "code",
   "execution_count": null,
   "metadata": {
    "collapsed": true
   },
   "outputs": [],
   "source": []
  }
 ],
 "metadata": {
  "kernelspec": {
   "display_name": "Python 3",
   "language": "python",
   "name": "python3"
  },
  "language_info": {
   "codemirror_mode": {
    "name": "ipython",
    "version": 3
   },
   "file_extension": ".py",
   "mimetype": "text/x-python",
   "name": "python",
   "nbconvert_exporter": "python",
   "pygments_lexer": "ipython3",
   "version": "3.5.1"
  }
 },
 "nbformat": 4,
 "nbformat_minor": 0
}
