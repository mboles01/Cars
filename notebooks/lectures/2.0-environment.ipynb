{
 "cells": [
  {
   "cell_type": "markdown",
   "metadata": {},
   "source": [
    "<table style=\"width:100%; border: 0px solid black;\">\n",
    "    <tr style=\"width: 100%; border: 0px solid black;\">\n",
    "        <td style=\"width:75%; border: 0px solid black;\">\n",
    "            <a href=\"http://www.drivendata.org\">\n",
    "                <img src=\"https://s3.amazonaws.com/drivendata.org/kif-example/img/dd.png\" />\n",
    "            </a>\n",
    "        </td>\n",
    "    </tr>\n",
    "</table>"
   ]
  },
  {
   "cell_type": "markdown",
   "metadata": {},
   "source": [
    "# Data Science is Software\n",
    "## Developer #lifehacks for the Jupyter Data Scientist\n",
    "\n",
    "### Section 2:  This is my house\n",
    "#### Environment reproducibility for Python"
   ]
  },
  {
   "cell_type": "code",
   "execution_count": null,
   "metadata": {
    "collapsed": false
   },
   "outputs": [],
   "source": [
    "from __future__ import print_function\n",
    "\n",
    "import os\n",
    "import sys\n",
    "\n",
    "PROJ_ROOT = os.path.join(os.pardir, os.pardir)\n",
    "\n",
    "# add local python functions\n",
    "sys.path.append(os.path.join(PROJ_ROOT, \"src\"))"
   ]
  },
  {
   "cell_type": "markdown",
   "metadata": {},
   "source": [
    "#### 2.1 The [watermark](https://github.com/rasbt/watermark) extension\n",
    "\n",
    "Tell everyone when your notebook was run, and with which packages. This is especially useful for nbview, blog posts, and other media where you are not sharing the notebook as executable code."
   ]
  },
  {
   "cell_type": "code",
   "execution_count": null,
   "metadata": {
    "collapsed": false
   },
   "outputs": [],
   "source": [
    "# install the watermark extension\n",
    "!pip install watermark\n",
    "\n",
    "# once it is installed, you'll just need this in future notebooks:\n",
    "%load_ext watermark"
   ]
  },
  {
   "cell_type": "code",
   "execution_count": null,
   "metadata": {
    "collapsed": false,
    "scrolled": true
   },
   "outputs": [],
   "source": [
    "%watermark -a \"Peter Bull\" -d -t -v -p numpy,pandas -g"
   ]
  },
  {
   "cell_type": "markdown",
   "metadata": {},
   "source": [
    "#### 2.2 Laying the foundation\n",
    "\n",
    "Continuum's `conda` tool provides a way to create [isolated environments](http://conda.pydata.org/docs/using/envs.html). In fact, you've already seen this at work if you followed the [pydata setup](https://github.com/drivendata/pydata-setup) instructions to setup your machine for this tutorial. The `conda env` functionality let's you created an isolated environment on your machine for \n",
    "\n",
    " - Start from \"scratch\" on each project\n",
    " - Choose Python 2 or 3 as appropriate\n",
    "\n",
    "To create an empty environment:\n",
    "\n",
    " - `conda create -n <name> python=3`\n",
    "\n",
    "**Note: `python=2` will create a Python 2 environment; `python=3` will create a Python 3 environment.**\n",
    "\n",
    "\n",
    "To work in a particular virtual environment:\n",
    "\n",
    " - `source activate <name>`\n",
    " \n",
    "To leave a virtual environment:\n",
    "\n",
    " - `source deactivate`\n",
    "\n",
    "**Note: on Windows, the commands are just `activate` and `deactivate`, no need to type `source`.**\n",
    "\n",
    "There are other Python tools for environment isolation, but none of them are perfect. If you're interested in the other options, [`virtualenv`](https://virtualenv.pypa.io/en/stable/) and [`pyenv`](https://github.com/yyuu/pyenv) both provide environment isolation. There are _sometimes_ compatibility issues between the Anaconda Python distribution and these packages, so if you've got Anaconda on your machine you can use `conda env` to create and manage environments.\n",
    "\n",
    "-------------------\n",
    " \n",
    "**`#lifehack`: create a new environment for every project you work on**\n",
    "\n",
    "**`#lifehack`: if you use anaconda to manage packages using `mkvirtualenv --system-site-packages <name>` means you don't have to recompile large packages**\n",
    "\n",
    "------------\n"
   ]
  },
  {
   "cell_type": "markdown",
   "metadata": {},
   "source": [
    "#### 2.3 The `pip` [requirements.txt](https://pip.readthedocs.org/en/1.1/requirements.html) file\n",
    "\n",
    "It's a convention in the Python ecosystem to track a project's dependencies in a file called `requirements.txt`. We recommend using this file to keep track of your MRE, \"Minimum reproducible environment\".\n",
    "\n",
    "Conda\n",
    "\n",
    "-----------\n",
    "\n",
    "**`#lifehack`: never again run `pip install <package>`. Instead, update `requirements.txt` and run `pip install -r requirements.txt`**\n",
    "\n",
    "**`#lifehack`: for data science projects, favor `package>=0.0.0` rather than `package==0.0.0`. This works well with the `--system-site-packages` flag so you don't have many versions of large packages with complex dependencies sitting around (e.g., numpy, scipy, pandas)**\n",
    "\n",
    "-------\n"
   ]
  },
  {
   "cell_type": "code",
   "execution_count": null,
   "metadata": {
    "collapsed": false
   },
   "outputs": [],
   "source": [
    "# what does requirements.txt look like?\n",
    "print(open(os.path.join(PROJ_ROOT, 'requirements.txt')).read())"
   ]
  },
  {
   "cell_type": "markdown",
   "metadata": {
    "collapsed": true
   },
   "source": [
    "The format for a line in the requirements file is:\n",
    "\n",
    " | Syntax | Result |\n",
    " | --- | --- |\n",
    " | `package_name` | for whatever the latest version on PyPI is |\n",
    " | `package_name==X.X.X` | for an exact match of version X.X.X |\n",
    " | `package_name>=X.X.X` | for at least version X.X.X |\n",
    " \n",
    "Now, contributors can create a new virtual environment (using conda or any other tool) and install your dependencies just by running:\n",
    "\n",
    " - `pip install -r requirements.txt`"
   ]
  },
  {
   "cell_type": "markdown",
   "metadata": {},
   "source": [
    "#### 2.4 Separation of configuration from codebase\n",
    "\n",
    "There are some things you don't want to be openly reproducible: your private database url, your AWS credentials for downloading the data, your SSN, which you decided to use as a hash. These shouldn't live in source control, but may be essential for collaborators or others reproducing your work.\n",
    "\n",
    "This is a situation where we can learn from some software engineering best practices. The [12-factor app principles](http://12factor.net/) give a set of best-practices for building web applications. Many of these principles are relevant for best practices in the data-science codebases as well.\n",
    "\n",
    "Using a dependency manifest like `requirements.txt` satisfies [II. Explicitly declare and isolate dependencies](http://12factor.net/dependencies). The important principle here is [III. Store config in the environment](http://12factor.net/config):\n",
    "\n",
    " > An app’s config is everything that is likely to vary between deploys (staging, production, developer environments, etc). Apps sometimes store config as constants in the code. This is a violation of twelve-factor, which requires strict separation of config from code. Config varies substantially across deploys, code does not. A litmus test for whether an app has all config correctly factored out of the code is whether the codebase could be made open source at any moment, without compromising any credentials.\n",
    " \n",
    "The [`dotenv` pacakge](https://pypi.python.org/pypi/python-dotenv) allows you to easily store these variables in a file that is not in source control (as long as you keep the line `.env` in your `.gitignore` file!). You can then reference these variables as environment variables in your application with `os.environ.get('VARIABLE_NAME')`."
   ]
  },
  {
   "cell_type": "code",
   "execution_count": null,
   "metadata": {
    "collapsed": false
   },
   "outputs": [],
   "source": [
    "print(open(os.path.join(PROJ_ROOT, '.env')).read())"
   ]
  }
 ],
 "metadata": {
  "kernelspec": {
   "display_name": "Python 3",
   "language": "python",
   "name": "python3"
  },
  "language_info": {
   "codemirror_mode": {
    "name": "ipython",
    "version": 3
   },
   "file_extension": ".py",
   "mimetype": "text/x-python",
   "name": "python",
   "nbconvert_exporter": "python",
   "pygments_lexer": "ipython3",
   "version": "3.5.1"
  }
 },
 "nbformat": 4,
 "nbformat_minor": 0
}
